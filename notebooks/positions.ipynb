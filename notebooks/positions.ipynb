{
 "cells": [
  {
   "cell_type": "markdown",
   "metadata": {},
   "source": [
    "# ST Patterns - Position Calculator"
   ]
  },
  {
   "cell_type": "markdown",
   "metadata": {},
   "source": [
    "### Imports"
   ]
  },
  {
   "cell_type": "code",
   "execution_count": 10,
   "metadata": {},
   "outputs": [
    {
     "name": "stdout",
     "output_type": "stream",
     "text": [
      "The autoreload extension is already loaded. To reload it, use:\n",
      "  %reload_ext autoreload\n"
     ]
    }
   ],
   "source": [
    "%load_ext autoreload\n",
    "%autoreload 2"
   ]
  },
  {
   "cell_type": "code",
   "execution_count": 11,
   "metadata": {},
   "outputs": [],
   "source": [
    "import math\n",
    "from enum import Enum\n",
    "from corridor import FractalCorridor, FractalDirection"
   ]
  },
  {
   "cell_type": "code",
   "execution_count": 18,
   "metadata": {},
   "outputs": [],
   "source": [
    "import uuid"
   ]
  },
  {
   "cell_type": "code",
   "execution_count": 27,
   "metadata": {},
   "outputs": [
    {
     "data": {
      "text/plain": [
       "4030452736"
      ]
     },
     "execution_count": 27,
     "metadata": {},
     "output_type": "execute_result"
    }
   ],
   "source": [
    "uuid.uuid1().time_low"
   ]
  },
  {
   "cell_type": "code",
   "execution_count": 22,
   "metadata": {},
   "outputs": [],
   "source": [
    "obj = uuid.uuid1()"
   ]
  },
  {
   "cell_type": "code",
   "execution_count": 28,
   "metadata": {},
   "outputs": [
    {
     "data": {
      "text/plain": [
       "'ccca051e-290b-11eb-adaf-34e12dfa26f1'"
      ]
     },
     "execution_count": 28,
     "metadata": {},
     "output_type": "execute_result"
    }
   ],
   "source": [
    "str(obj)"
   ]
  },
  {
   "cell_type": "code",
   "execution_count": 12,
   "metadata": {},
   "outputs": [],
   "source": [
    "corridor = FractalCorridor(1, 0.5, 0.002, 2.1, 4.0)"
   ]
  },
  {
   "cell_type": "code",
   "execution_count": 16,
   "metadata": {},
   "outputs": [
    {
     "data": {
      "text/plain": [
       "LevelParameters(entry=0.498, take_profit=1, stop_loss=1)"
      ]
     },
     "execution_count": 16,
     "metadata": {},
     "output_type": "execute_result"
    }
   ],
   "source": [
    "corridor.level_parameters(0.75, FractalDirection.Down)"
   ]
  },
  {
   "cell_type": "markdown",
   "metadata": {},
   "source": [
    "### Data Structures"
   ]
  },
  {
   "cell_type": "code",
   "execution_count": 85,
   "metadata": {},
   "outputs": [],
   "source": [
    "class CurrencyPair(Enum):\n",
    "    EURUSD = 1\n",
    "    GBPUSD = 2"
   ]
  },
  {
   "cell_type": "markdown",
   "metadata": {},
   "source": [
    "### Parameters"
   ]
  },
  {
   "cell_type": "code",
   "execution_count": 1,
   "metadata": {},
   "outputs": [],
   "source": [
    "PIP = 0.0001\n",
    "DECIMALS = 5\n",
    "\n",
    "LOT_SIZE = 100000\n",
    "LOT_MIN = 0.01\n",
    "LEVEREGE = 200\n",
    "\n",
    "ADR_LIMIT = 0.5\n",
    "ADR_MIN_PIPS = 12\n",
    "\n",
    "BACK_LEVEL_MUL = 2.1\n",
    "TARGET_LEVEL_MUL = 4\n",
    "\n",
    "equity = 10000\n",
    "risk = 0.05\n",
    "\n",
    "upper_fractal = 1.18279\n",
    "lower_fractal = 1.18029\n",
    "fracture_pips = 7.6\n",
    "spread_pips = 1.0\n",
    "\n",
    "adr = 44.4 * 2"
   ]
  },
  {
   "cell_type": "markdown",
   "metadata": {},
   "source": [
    "### Calculation - Levels"
   ]
  },
  {
   "cell_type": "code",
   "execution_count": 2,
   "metadata": {},
   "outputs": [],
   "source": [
    "fractal_cooridor = round(upper_fractal - lower_fractal, DECIMALS)\n",
    "fractal_cooridor_pips = fractal_cooridor / PIP\n",
    "\n",
    "back_height = BACK_LEVEL_MUL * fractal_cooridor\n",
    "target_height = TARGET_LEVEL_MUL * fractal_cooridor\n",
    "\n",
    "real_cooridor_pips = fractal_cooridor_pips + fracture_pips\n",
    "\n",
    "wide_cooridor = (adr * ADR_LIMIT < fractal_cooridor_pips < ADR_MIN_PIPS)\n",
    "\n",
    "upper_entry = round(upper_fractal + fracture_pips * PIP, DECIMALS)\n",
    "lower_entry = round(lower_fractal - fracture_pips * PIP, DECIMALS)\n",
    "\n",
    "long_back_price = upper_fractal + back_height\n",
    "long_target_price = upper_fractal + target_height\n",
    "\n",
    "short_back_price = lower_fractal - back_height\n",
    "short_target_price = lower_fractal - target_height"
   ]
  },
  {
   "cell_type": "markdown",
   "metadata": {},
   "source": [
    "### Calculation - Position Size"
   ]
  },
  {
   "cell_type": "code",
   "execution_count": 3,
   "metadata": {},
   "outputs": [],
   "source": [
    "pct_change_loss = (upper_entry - lower_fractal)/lower_fractal\n",
    "pct_change_target = (long_target_price - upper_fractal)/upper_fractal\n",
    "\n",
    "total_bet = (equity * risk)/pct_change_loss\n",
    "total_bet_lots = (total_bet / LOT_SIZE) // LOT_MIN / (1 / LOT_MIN)\n",
    "\n",
    "total_bet = total_bet_lots * LOT_SIZE"
   ]
  },
  {
   "cell_type": "markdown",
   "metadata": {},
   "source": [
    "### Trading info"
   ]
  },
  {
   "cell_type": "code",
   "execution_count": 4,
   "metadata": {},
   "outputs": [
    {
     "name": "stdout",
     "output_type": "stream",
     "text": [
      "---LONG POSITION---\n"
     ]
    }
   ],
   "source": [
    "\n",
    "\n",
    "print(\"---LONG POSITION---\")"
   ]
  },
  {
   "cell_type": "code",
   "execution_count": 5,
   "metadata": {},
   "outputs": [
    {
     "name": "stdout",
     "output_type": "stream",
     "text": [
      "---SHORT POSITION---\n"
     ]
    }
   ],
   "source": [
    "\n",
    "\n",
    "print(\"---SHORT POSITION---\")"
   ]
  },
  {
   "cell_type": "code",
   "execution_count": 6,
   "metadata": {},
   "outputs": [
    {
     "name": "stdout",
     "output_type": "stream",
     "text": [
      "Position size: 1.81 lots\n"
     ]
    }
   ],
   "source": [
    "print(f\"Position size: {total_bet_lots} lots\")"
   ]
  }
 ],
 "metadata": {
  "kernelspec": {
   "display_name": "Python [conda env:rl_fx]",
   "language": "python",
   "name": "conda-env-rl_fx-py"
  },
  "language_info": {
   "codemirror_mode": {
    "name": "ipython",
    "version": 3
   },
   "file_extension": ".py",
   "mimetype": "text/x-python",
   "name": "python",
   "nbconvert_exporter": "python",
   "pygments_lexer": "ipython3",
   "version": "3.7.7"
  }
 },
 "nbformat": 4,
 "nbformat_minor": 4
}
