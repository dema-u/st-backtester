{
 "cells": [
  {
   "cell_type": "code",
   "execution_count": 5,
   "metadata": {},
   "outputs": [],
   "source": [
    "import pandas as pd\n",
    "import configparser\n",
    "import os\n",
    "from datetime import datetime\n",
    "from pandas.tseries.offsets import BMonthEnd\n",
    "from dateutil.relativedelta import relativedelta, FR, TH"
   ]
  },
  {
   "cell_type": "markdown",
   "metadata": {},
   "source": [
    "### Price"
   ]
  },
  {
   "cell_type": "code",
   "execution_count": 154,
   "metadata": {},
   "outputs": [],
   "source": [
    "base_path = 'data/raw/prices/'\n",
    "freqs = os.listdir(base_path)\n",
    "\n",
    "for freq in freqs:\n",
    "    full_path = base_path + freq\n",
    "    files = os.listdir(full_path)\n",
    "    for file in files:\n",
    "        file_path = full_path + '/' + file\n",
    "        data = pd.read_csv(file_path, index_col=0)\n",
    "        midprice = (data['bidclose'] + data['askclose'])/2\n",
    "        new_data = pd.DataFrame(midprice).rename({0:'spot'}, axis=1)\n",
    "        new_data.to_csv(f'data/processed/prices/{freq}/{file}')"
   ]
  },
  {
   "cell_type": "markdown",
   "metadata": {},
   "source": [
    "### COT"
   ]
  },
  {
   "cell_type": "code",
   "execution_count": 155,
   "metadata": {},
   "outputs": [],
   "source": [
    "file_path = 'data/raw/cot/'\n",
    "\n",
    "config = configparser.RawConfigParser()\n",
    "config.read('configs/cot.cfg')\n",
    "\n",
    "ins_dict = dict(config.items('INSTRUMENTS'))\n",
    "parse_dict = dict(config.items('PARSING'))\n",
    "cols = parse_dict['cols'].replace('\\'', '').split(',')\n",
    "\n",
    "all_file_paths = [file_path + file for file in os.listdir(file_path) if '.csv' in file]\n",
    "\n",
    "for name, index_name in ins_dict.items():\n",
    "    data_list = [pd.read_csv(file_path, index_col=0).loc[index_name] for file_path in all_file_paths]\n",
    "    data_agg = pd.concat(data_list).reset_index(drop=True).set_index('Report_Date_as_MM_DD_YYYY')\n",
    "    data_agg.index = pd.to_datetime(data_agg.index)\n",
    "    data_agg.index = data_agg.index.rename('Date')\n",
    "    data_agg = data_agg[cols]\n",
    "    data_agg = data_agg.sort_index()\n",
    "    data_agg.to_csv(f'data/processed/cot/{name.upper()}.csv')"
   ]
  },
  {
   "cell_type": "markdown",
   "metadata": {},
   "source": [
    "### Bonds"
   ]
  },
  {
   "cell_type": "code",
   "execution_count": 19,
   "metadata": {},
   "outputs": [],
   "source": [
    "file_path = 'data/raw/bonds/'\n",
    "maturitues = ['1Y', '2Y', '3Y', '5Y', '10Y', '20Y', '6M', '3M']\n",
    "\n",
    "for maturity in maturitues:\n",
    "    all_files = os.listdir(file_path + maturity + '/')\n",
    "    all_file_paths = [file_path + '/' + maturity + '/' + file for file in os.listdir(file_path + maturity + '/') if '.csv' in file]\n",
    "\n",
    "    for name, path in zip(all_files, all_file_paths):\n",
    "        data = pd.read_csv(path, index_col=0)\n",
    "        data.index = pd.to_datetime(data.index)\n",
    "        data = data.sort_index()\n",
    "        real_name = name.strip('.csv')\n",
    "        data = pd.DataFrame(data['Price']).rename({'Price': f'Bond{maturity}'}, axis=1)\n",
    "        data.to_csv(f'data/processed/bonds/{maturity}/{name}')"
   ]
  },
  {
   "cell_type": "markdown",
   "metadata": {},
   "source": [
    "### Inflation"
   ]
  },
  {
   "cell_type": "code",
   "execution_count": 6,
   "metadata": {},
   "outputs": [],
   "source": [
    "def get_next_friday(date):\n",
    "    return date + relativedelta(months=1) + relativedelta(weekday=TH(-1))"
   ]
  },
  {
   "cell_type": "code",
   "execution_count": 7,
   "metadata": {},
   "outputs": [],
   "source": [
    "file_path = 'data/raw/inflation/'\n",
    "\n",
    "all_files = os.listdir(file_path)\n",
    "all_file_paths = [file_path + file for file in os.listdir(file_path) if '.csv' in file]\n",
    "\n",
    "for name, path in zip(all_files, all_file_paths):\n",
    "    data = pd.read_csv(path)\n",
    "    data = data.rename({'DateTime': 'Date'}, axis=1)\n",
    "    data = data.set_index('Date')\n",
    "    data.index = pd.to_datetime(data.index)\n",
    "    data.index = data.index.map(get_next_friday)\n",
    "    data = pd.DataFrame(data['Value'])\n",
    "    real_name = name.strip('.csv')\n",
    "    data = data.rename({'Value': f'Inflation'}, axis=1)\n",
    "    data.to_csv(f'data/processed/inflation/{name}')"
   ]
  },
  {
   "cell_type": "markdown",
   "metadata": {},
   "source": [
    "### Trade"
   ]
  },
  {
   "cell_type": "code",
   "execution_count": 8,
   "metadata": {},
   "outputs": [],
   "source": [
    "file_path = 'data/raw/trade/'\n",
    "\n",
    "all_files = os.listdir(file_path)\n",
    "all_file_paths = [file_path + file for file in os.listdir(file_path) if '.csv' in file]\n",
    "\n",
    "for name, path in zip(all_files, all_file_paths):\n",
    "    data = pd.read_csv(path)\n",
    "    data = data.rename({'DateTime': 'Date'}, axis=1)\n",
    "    data = data.set_index('Date')\n",
    "    data.index = pd.to_datetime(data.index)\n",
    "    data.index = data.index.map(get_next_friday)\n",
    "    data = pd.DataFrame(data['Value'])\n",
    "    real_name = name.strip('.csv')\n",
    "    data = data.rename({'Value': f'Trade'}, axis=1)\n",
    "    data.to_csv(f'data/processed/trade/{name}')"
   ]
  },
  {
   "cell_type": "markdown",
   "metadata": {},
   "source": [
    "### Volatility"
   ]
  },
  {
   "cell_type": "code",
   "execution_count": 17,
   "metadata": {},
   "outputs": [],
   "source": [
    "vix = pd.read_csv('data/raw/vol/VIX.csv', index_col=0)\n",
    "vix.index = pd.to_datetime(vix.index)\n",
    "vix = pd.DataFrame(vix['Price'])\n",
    "vix.to_csv(f'data/processed/vol/VIX.csv')"
   ]
  },
  {
   "cell_type": "code",
   "execution_count": null,
   "metadata": {},
   "outputs": [],
   "source": []
  }
 ],
 "metadata": {
  "kernelspec": {
   "display_name": "Python [conda env:rl_fx]",
   "language": "python",
   "name": "conda-env-rl_fx-py"
  },
  "language_info": {
   "codemirror_mode": {
    "name": "ipython",
    "version": 3
   },
   "file_extension": ".py",
   "mimetype": "text/x-python",
   "name": "python",
   "nbconvert_exporter": "python",
   "pygments_lexer": "ipython3",
   "version": "3.7.7"
  }
 },
 "nbformat": 4,
 "nbformat_minor": 4
}
