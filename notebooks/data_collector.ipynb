{
 "cells": [
  {
   "cell_type": "code",
   "execution_count": 1,
   "metadata": {},
   "outputs": [],
   "source": [
    "import fxcmpy\n",
    "import pandas as pd\n",
    "import datetime as dt\n",
    "import requests\n",
    "import configparser\n",
    "import zipfile\n",
    "import os\n",
    "import pandas\n",
    "\n",
    "from tqdm import tqdm"
   ]
  },
  {
   "cell_type": "markdown",
   "metadata": {},
   "source": [
    "Can not find FXCM Server.\n",
    "\n",
    "When the market is not online."
   ]
  },
  {
   "cell_type": "code",
   "execution_count": null,
   "metadata": {},
   "outputs": [],
   "source": [
    "con = fxcmpy.fxcmpy(config_file='C:\\\\Users\\\\Dema\\\\Documents\\\\Programming\\\\Python\\\\Projects\\\\FX\\\\configs\\\\api.cfg')"
   ]
  },
  {
   "cell_type": "markdown",
   "metadata": {},
   "source": [
    "### Price Data"
   ]
  },
  {
   "cell_type": "code",
   "execution_count": 95,
   "metadata": {},
   "outputs": [],
   "source": [
    "all_instruments = con.get_instruments()\n",
    "\n",
    "freq_dict = {'m5':'5min', 'm15': '15min', 'm30': '30min', 'H1': '1H', 'H4': '4H', 'D1': '1D', 'W1': '1W'}\n",
    "\n",
    "first_date = pd.Timestamp('1990-01-01')\n",
    "last_date = pd.Timestamp('2022-01-01')\n",
    "\n",
    "all_pairs = ['GBP/USD', 'USD/JPY', 'USD/CHF', 'USD/CAD',\n",
    "             'AUD/USD', 'AUD/CAD', 'AUD/CHF', 'AUD/JPY',\n",
    "             'CAD/CHF', 'CAD/JPY', 'CHF/JPY', 'GBP/AUD',\n",
    "             'GBP/CAD', 'GBP/CHF', 'GBP/JPY', 'VOLX',\n",
    "             'USEquities', 'USDOLLAR', 'UK100']"
   ]
  },
  {
   "cell_type": "code",
   "execution_count": 96,
   "metadata": {},
   "outputs": [],
   "source": [
    "def get_instrument_data(instrument, frequency, first_date, last_date):\n",
    "    \n",
    "    dates = list(pd.date_range(start=first_date, end=last_date, freq=freq_dict[frequency])[::10000]) + [last_date]\n",
    "    \n",
    "    data = [con.get_candles(instrument, period=frequency, start=dates[ix], stop=dates[ix+1]) for ix in range(len(dates)-1)]\n",
    "    \n",
    "    return pd.concat(data).drop_duplicates()\n",
    "\n",
    "def get_and_save(all_pairs, frequency, first_date, last_date):\n",
    "    \n",
    "    all_data = {pair: get_instrument_data(pair, frequency, first_date, last_date) for pair in tqdm(all_pairs)}\n",
    "    \n",
    "    print(f'Saving {frequency} data.')\n",
    "    \n",
    "    for pair, data in all_data.items():\n",
    "        pair_name = pair.replace('/', '')\n",
    "        data.to_csv(f'data/raw/prices/{frequency}/{pair_name}.csv')"
   ]
  },
  {
   "cell_type": "code",
   "execution_count": 97,
   "metadata": {
    "collapsed": true,
    "jupyter": {
     "outputs_hidden": true
    }
   },
   "outputs": [
    {
     "name": "stderr",
     "output_type": "stream",
     "text": [
      "\n",
      "  0%|                                                                                           | 0/19 [00:00<?, ?it/s]\u001b[A\n",
      "  5%|████▎                                                                              | 1/19 [00:00<00:05,  3.41it/s]\u001b[A\n",
      " 11%|████████▋                                                                          | 2/19 [00:00<00:05,  3.31it/s]\u001b[A\n",
      " 16%|█████████████                                                                      | 3/19 [00:00<00:04,  3.44it/s]\u001b[A\n",
      " 21%|█████████████████▍                                                                 | 4/19 [00:01<00:04,  3.70it/s]\u001b[A\n",
      " 26%|█████████████████████▊                                                             | 5/19 [00:01<00:03,  3.71it/s]\u001b[A\n",
      " 32%|██████████████████████████▏                                                        | 6/19 [00:01<00:03,  3.81it/s]\u001b[A\n",
      " 37%|██████████████████████████████▌                                                    | 7/19 [00:01<00:02,  4.15it/s]\u001b[A\n",
      " 42%|██████████████████████████████████▉                                                | 8/19 [00:02<00:02,  4.34it/s]\u001b[A\n",
      " 47%|███████████████████████████████████████▎                                           | 9/19 [00:02<00:02,  4.58it/s]\u001b[A\n",
      " 53%|███████████████████████████████████████████▏                                      | 10/19 [00:02<00:01,  4.67it/s]\u001b[A\n",
      " 58%|███████████████████████████████████████████████▍                                  | 11/19 [00:02<00:01,  4.66it/s]\u001b[A\n",
      " 63%|███████████████████████████████████████████████████▊                              | 12/19 [00:02<00:01,  4.29it/s]\u001b[A\n",
      " 68%|████████████████████████████████████████████████████████                          | 13/19 [00:03<00:01,  4.17it/s]\u001b[A\n",
      " 74%|████████████████████████████████████████████████████████████▍                     | 14/19 [00:03<00:01,  3.98it/s]\u001b[A\n",
      " 79%|████████████████████████████████████████████████████████████████▋                 | 15/19 [00:03<00:00,  4.19it/s]\u001b[A\n",
      " 84%|█████████████████████████████████████████████████████████████████████             | 16/19 [00:03<00:00,  4.58it/s]\u001b[A\n",
      " 89%|█████████████████████████████████████████████████████████████████████████▎        | 17/19 [00:03<00:00,  4.80it/s]\u001b[A\n",
      " 95%|█████████████████████████████████████████████████████████████████████████████▋    | 18/19 [00:04<00:00,  4.75it/s]\u001b[A\n",
      "100%|██████████████████████████████████████████████████████████████████████████████████| 19/19 [00:04<00:00,  4.32it/s]\u001b[A\n",
      "\n",
      "  0%|                                                                                           | 0/19 [00:00<?, ?it/s]\u001b[A"
     ]
    },
    {
     "name": "stdout",
     "output_type": "stream",
     "text": [
      "Saving W1 data.\n"
     ]
    },
    {
     "name": "stderr",
     "output_type": "stream",
     "text": [
      "\n",
      "  5%|████▎                                                                              | 1/19 [00:00<00:09,  1.89it/s]\u001b[A\n",
      " 11%|████████▋                                                                          | 2/19 [00:01<00:09,  1.88it/s]\u001b[A\n",
      " 16%|█████████████                                                                      | 3/19 [00:01<00:08,  1.95it/s]\u001b[A\n",
      " 21%|█████████████████▍                                                                 | 4/19 [00:02<00:08,  1.86it/s]\u001b[A\n",
      " 26%|█████████████████████▊                                                             | 5/19 [00:02<00:07,  1.86it/s]\u001b[A\n",
      " 32%|██████████████████████████▏                                                        | 6/19 [00:03<00:06,  1.87it/s]\u001b[A\n",
      " 37%|██████████████████████████████▌                                                    | 7/19 [00:03<00:06,  1.85it/s]\u001b[A\n",
      " 42%|██████████████████████████████████▉                                                | 8/19 [00:04<00:06,  1.66it/s]\u001b[A\n",
      " 47%|███████████████████████████████████████▎                                           | 9/19 [00:05<00:06,  1.66it/s]\u001b[A\n",
      " 53%|███████████████████████████████████████████▏                                      | 10/19 [00:05<00:05,  1.71it/s]\u001b[A\n",
      " 58%|███████████████████████████████████████████████▍                                  | 11/19 [00:06<00:04,  1.81it/s]\u001b[A\n",
      " 63%|███████████████████████████████████████████████████▊                              | 12/19 [00:06<00:04,  1.74it/s]\u001b[A\n",
      " 68%|████████████████████████████████████████████████████████                          | 13/19 [00:07<00:03,  1.81it/s]\u001b[A\n",
      " 74%|████████████████████████████████████████████████████████████▍                     | 14/19 [00:07<00:02,  1.81it/s]\u001b[A\n",
      " 79%|████████████████████████████████████████████████████████████████▋                 | 15/19 [00:08<00:02,  1.80it/s]\u001b[A\n",
      " 84%|█████████████████████████████████████████████████████████████████████             | 16/19 [00:08<00:01,  2.10it/s]\u001b[A\n",
      " 89%|█████████████████████████████████████████████████████████████████████████▎        | 17/19 [00:08<00:00,  2.32it/s]\u001b[A\n",
      " 95%|█████████████████████████████████████████████████████████████████████████████▋    | 18/19 [00:09<00:00,  2.18it/s]\u001b[A\n",
      "100%|██████████████████████████████████████████████████████████████████████████████████| 19/19 [00:10<00:00,  1.89it/s]\u001b[A\n"
     ]
    },
    {
     "name": "stdout",
     "output_type": "stream",
     "text": [
      "Saving D1 data.\n"
     ]
    },
    {
     "name": "stderr",
     "output_type": "stream",
     "text": [
      "\n",
      "  0%|                                                                                           | 0/19 [00:00<?, ?it/s]\u001b[A\n",
      "  5%|████▎                                                                              | 1/19 [00:04<01:26,  4.78s/it]\u001b[A\n",
      " 11%|████████▋                                                                          | 2/19 [00:08<01:17,  4.58s/it]\u001b[A\n",
      " 16%|█████████████                                                                      | 3/19 [00:13<01:12,  4.54s/it]\u001b[A\n",
      " 21%|█████████████████▍                                                                 | 4/19 [00:17<01:06,  4.45s/it]\u001b[A\n",
      " 26%|█████████████████████▊                                                             | 5/19 [00:21<01:00,  4.35s/it]\u001b[A\n",
      " 32%|██████████████████████████▏                                                        | 6/19 [00:26<00:58,  4.48s/it]\u001b[A\n",
      " 37%|██████████████████████████████▌                                                    | 7/19 [00:31<00:55,  4.64s/it]\u001b[A\n",
      " 42%|██████████████████████████████████▉                                                | 8/19 [00:35<00:49,  4.51s/it]\u001b[A\n",
      " 47%|███████████████████████████████████████▎                                           | 9/19 [00:41<00:48,  4.86s/it]\u001b[A\n",
      " 53%|███████████████████████████████████████████▏                                      | 10/19 [00:49<00:51,  5.72s/it]\u001b[A\n",
      " 58%|███████████████████████████████████████████████▍                                  | 11/19 [00:55<00:47,  5.99s/it]\u001b[A\n",
      " 63%|███████████████████████████████████████████████████▊                              | 12/19 [01:00<00:39,  5.66s/it]\u001b[A\n",
      " 68%|████████████████████████████████████████████████████████                          | 13/19 [01:05<00:32,  5.39s/it]\u001b[A\n",
      " 74%|████████████████████████████████████████████████████████████▍                     | 14/19 [01:11<00:27,  5.53s/it]\u001b[A\n",
      " 79%|████████████████████████████████████████████████████████████████▋                 | 15/19 [01:16<00:21,  5.45s/it]\u001b[A\n",
      " 84%|█████████████████████████████████████████████████████████████████████             | 16/19 [01:18<00:12,  4.27s/it]\u001b[A\n",
      " 89%|█████████████████████████████████████████████████████████████████████████▎        | 17/19 [01:19<00:06,  3.49s/it]\u001b[A\n",
      " 95%|█████████████████████████████████████████████████████████████████████████████▋    | 18/19 [01:24<00:03,  3.87s/it]\u001b[A\n",
      "100%|██████████████████████████████████████████████████████████████████████████████████| 19/19 [01:26<00:00,  4.58s/it]\u001b[A\n"
     ]
    },
    {
     "name": "stdout",
     "output_type": "stream",
     "text": [
      "Saving H4 data.\n"
     ]
    },
    {
     "name": "stderr",
     "output_type": "stream",
     "text": [
      "\n",
      "  0%|                                                                                           | 0/19 [00:00<?, ?it/s]\u001b[A\n",
      "  5%|████▎                                                                              | 1/19 [00:10<03:15, 10.87s/it]\u001b[A\n",
      " 11%|████████▋                                                                          | 2/19 [00:23<03:11, 11.26s/it]\u001b[A\n",
      " 16%|█████████████                                                                      | 3/19 [00:33<02:56, 11.04s/it]\u001b[A\n",
      " 21%|█████████████████▍                                                                 | 4/19 [00:44<02:45, 11.05s/it]\u001b[A\n",
      " 26%|█████████████████████▊                                                             | 5/19 [00:55<02:34, 11.05s/it]\u001b[A\n",
      " 32%|██████████████████████████▏                                                        | 6/19 [01:07<02:27, 11.34s/it]\u001b[A\n",
      " 37%|██████████████████████████████▌                                                    | 7/19 [01:20<02:19, 11.63s/it]\u001b[A\n",
      " 42%|██████████████████████████████████▉                                                | 8/19 [01:31<02:07, 11.58s/it]\u001b[A\n",
      " 47%|███████████████████████████████████████▎                                           | 9/19 [01:40<01:48, 10.81s/it]\u001b[A\n",
      " 53%|███████████████████████████████████████████▏                                      | 10/19 [01:51<01:37, 10.87s/it]\u001b[A\n",
      " 58%|███████████████████████████████████████████████▍                                  | 11/19 [02:02<01:27, 10.88s/it]\u001b[A\n",
      " 63%|███████████████████████████████████████████████████▊                              | 12/19 [02:13<01:15, 10.80s/it]\u001b[A\n",
      " 68%|████████████████████████████████████████████████████████                          | 13/19 [02:23<01:03, 10.66s/it]\u001b[A\n",
      " 74%|████████████████████████████████████████████████████████████▍                     | 14/19 [02:34<00:54, 10.92s/it]\u001b[A\n",
      " 79%|████████████████████████████████████████████████████████████████▋                 | 15/19 [02:46<00:44, 11.23s/it]\u001b[A\n",
      " 84%|█████████████████████████████████████████████████████████████████████             | 16/19 [02:51<00:28,  9.39s/it]\u001b[A\n",
      " 89%|█████████████████████████████████████████████████████████████████████████▎        | 17/19 [02:57<00:16,  8.10s/it]\u001b[A\n",
      " 95%|█████████████████████████████████████████████████████████████████████████████▋    | 18/19 [03:07<00:08,  8.70s/it]\u001b[A\n",
      "100%|██████████████████████████████████████████████████████████████████████████████████| 19/19 [03:14<00:00, 10.22s/it]\u001b[A\n"
     ]
    },
    {
     "name": "stdout",
     "output_type": "stream",
     "text": [
      "Saving H1 data.\n"
     ]
    }
   ],
   "source": [
    "get_and_save(all_pairs, \"W1\", first_date, last_date)\n",
    "get_and_save(all_pairs, \"D1\", first_date, last_date)\n",
    "get_and_save(all_pairs, \"H4\", first_date, last_date)\n",
    "get_and_save(all_pairs, \"H1\", first_date, last_date)\n",
    "get_and_save(all_pairs, \"m30\", first_date, last_date)\n",
    "get_and_save(all_pairs, \"m15\", first_date, last_date)\n",
    "get_and_save(all_pairs, \"m5\", first_date, last_date)"
   ]
  },
  {
   "cell_type": "markdown",
   "metadata": {},
   "source": [
    "### COT data"
   ]
  },
  {
   "cell_type": "code",
   "execution_count": 100,
   "metadata": {},
   "outputs": [],
   "source": [
    "# Only downloading the latest - will have to change the link and year on new years\n",
    "path = 'data/raw/cot/zip/com_fin_xls_2020.zip'\n",
    "\n",
    "config = configparser.RawConfigParser()\n",
    "config.read('configs/cot.cfg')\n",
    "cot_dict = dict(config.items('DOWNLOAD'))\n",
    "\n",
    "zip_url = cot_dict['zip_url']\n",
    "\n",
    "r = requests.get(zip_url, stream=True)\n",
    "with open(path, 'wb') as fd:\n",
    "    for chunk in r.iter_content(chunk_size=128):\n",
    "        fd.write(chunk) "
   ]
  },
  {
   "cell_type": "code",
   "execution_count": 101,
   "metadata": {},
   "outputs": [],
   "source": [
    "os.remove('data/raw/cot/xls/2020.xls')\n",
    "\n",
    "with zipfile.ZipFile(path, 'r') as zip_ref:\n",
    "    zip_ref.extractall('data/raw/cot/xls/')\n",
    "    \n",
    "os.rename(r'data/raw/cot/xls/FinComYY.xls', r'data/raw/cot/xls/2020.xls')"
   ]
  },
  {
   "cell_type": "code",
   "execution_count": 102,
   "metadata": {},
   "outputs": [],
   "source": [
    "xls_path = 'data/raw/cot/xls/'\n",
    "all_files = os.listdir(xls_path)\n",
    "all_paths = {file.strip('.xls'): xls_path + file for file in all_files}\n",
    "\n",
    "for file_name, path in all_paths.items():\n",
    "    xls_file = pd.read_excel(path, sheet_name='XLS')\n",
    "    xls_file.to_csv(f'data/raw/cot/{file_name}.csv', index=False)"
   ]
  },
  {
   "cell_type": "code",
   "execution_count": null,
   "metadata": {},
   "outputs": [],
   "source": []
  }
 ],
 "metadata": {
  "kernelspec": {
   "display_name": "Python [conda env:rl_fx]",
   "language": "python",
   "name": "conda-env-rl_fx-py"
  },
  "language_info": {
   "codemirror_mode": {
    "name": "ipython",
    "version": 3
   },
   "file_extension": ".py",
   "mimetype": "text/x-python",
   "name": "python",
   "nbconvert_exporter": "python",
   "pygments_lexer": "ipython3",
   "version": "3.7.7"
  }
 },
 "nbformat": 4,
 "nbformat_minor": 4
}
