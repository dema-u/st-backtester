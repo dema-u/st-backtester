{
 "cells": [
  {
   "cell_type": "code",
   "execution_count": 1,
   "metadata": {},
   "outputs": [],
   "source": [
    "%load_ext autoreload\n",
    "%autoreload 2\n",
    "%reload_ext autoreload"
   ]
  },
  {
   "cell_type": "code",
   "execution_count": 2,
   "metadata": {},
   "outputs": [],
   "source": [
    "import fxcmpy\n",
    "import os, sys \n",
    "import configparser\n",
    "import datetime\n",
    "import pandas as pd\n",
    "import numpy as np\n",
    "import utils\n",
    "\n",
    "from structs import Pips, CurrencyPair\n",
    "from strategy.fractals import FractalStrategy"
   ]
  },
  {
   "cell_type": "code",
   "execution_count": 3,
   "metadata": {},
   "outputs": [
    {
     "name": "stdout",
     "output_type": "stream",
     "text": [
      "FXCM API connection established\n"
     ]
    }
   ],
   "source": [
    "abspath_api = os.path.abspath('configs/api.ini')\n",
    "\n",
    "config = utils.ConfigHandler()\n",
    "\n",
    "fxcm_section = config.fxcm_settings\n",
    "\n",
    "access_token = fxcm_section['access_token']\n",
    "log_file = fxcm_section['log_file']\n",
    "log_level = fxcm_section['log_level']\n",
    "\n",
    "con = fxcmpy.fxcmpy(access_token=access_token, log_level=log_level)\n",
    "account_id = con.get_default_account()\n",
    "print(f\"FXCM API connection established\")"
   ]
  },
  {
   "cell_type": "code",
   "execution_count": 47,
   "metadata": {},
   "outputs": [],
   "source": [
    "con.close()"
   ]
  },
  {
   "cell_type": "code",
   "execution_count": 4,
   "metadata": {},
   "outputs": [],
   "source": [
    "RENAMER = {'bidopen': 'BidOpen', 'bidhigh': 'BidHigh', 'bidlow': 'BidLow', 'bidclose': 'BidClose',\n",
    "           'askopen': 'AskOpen', 'askhigh': 'AskHigh', 'asklow': 'AskLow', 'askclose': 'AskClose'}\n",
    "\n",
    "pair = CurrencyPair('EURUSD')\n",
    "jpy_pair = pair.jpy_pair\n",
    "\n",
    "con.subscribe_market_data(pair.fxcm_name)"
   ]
  },
  {
   "cell_type": "code",
   "execution_count": 5,
   "metadata": {},
   "outputs": [],
   "source": [
    "target_level = 4.0\n",
    "back_level = 2.1\n",
    "break_level = Pips(2, jpy_pair)\n",
    "sl_extension = Pips(1, jpy_pair)\n",
    "max_width = Pips(12, jpy_pair)\n",
    "min_width = Pips(2, jpy_pair)\n",
    "risk = 0.015\n",
    "\n",
    "strategy = FractalStrategy(target_level=target_level,\n",
    "                           back_level=back_level,\n",
    "                           break_level=break_level,\n",
    "                           sl_extension=sl_extension,\n",
    "                           max_width=max_width,\n",
    "                           min_width=min_width,\n",
    "                           risk=risk)"
   ]
  },
  {
   "cell_type": "code",
   "execution_count": 6,
   "metadata": {},
   "outputs": [
    {
     "name": "stdout",
     "output_type": "stream",
     "text": [
      "Price is between fractals\n"
     ]
    },
    {
     "data": {
      "text/plain": [
       "(1.19827, 1.197135)"
      ]
     },
     "execution_count": 6,
     "metadata": {},
     "output_type": "execute_result"
    }
   ],
   "source": [
    "data = con.get_candles(instrument=pair.fxcm_name, period='m5', number=24)\n",
    "data = data.rename(RENAMER, axis=1)\n",
    "\n",
    "last_price = con.get_last_price(pair.fxcm_name)\n",
    "latest_price = (last_price['Bid'] + last_price['Ask'])/2\n",
    "\n",
    "upper_fractal, lower_fractal = strategy.get_fractals(data)\n",
    "\n",
    "if upper_fractal is not None and lower_fractal is not None:\n",
    "    target_l, back_l, entry_l, sl_l = strategy.get_long_order(upper_fractal, lower_fractal)\n",
    "    target_s, back_s, entry_s, sl_s = strategy.get_short_order(upper_fractal, lower_fractal)\n",
    "    \n",
    "    if upper_fractal > latest_price > lower_fractal:\n",
    "        print('Price is between fractals')\n",
    "    \n",
    "(upper_fractal, lower_fractal)"
   ]
  },
  {
   "cell_type": "code",
   "execution_count": 8,
   "metadata": {},
   "outputs": [],
   "source": [
    "historical_price = data\n",
    "\n",
    "processed = pd.DataFrame()\n",
    "\n",
    "processed['High'] = (historical_price['BidHigh'] + historical_price['AskHigh']) / 2\n",
    "processed['Low'] = (historical_price['BidLow'] + historical_price['AskLow']) / 2\n",
    "\n",
    "processed['UpperFractal'] = np.where(\n",
    "    (processed['High'] > processed['High'].shift(1)) & (processed['High'] > processed['High'].shift(-1)), True,\n",
    "    False)\n",
    "\n",
    "processed['LowerFractal'] = np.where(\n",
    "    (processed['Low'] < processed['Low'].shift(1)) & (processed['Low'] < processed['Low'].shift(-1)), True,\n",
    "    False)\n",
    "\n",
    "all_upper = processed[processed['UpperFractal'] == True]['High']\n",
    "all_lower = processed[processed['LowerFractal'] == True]['Low']\n",
    "\n",
    "if len(all_upper) == 0 or len(all_lower) == 0:\n",
    "    None, None\n",
    "\n",
    "upper_fractal = all_upper.iloc[-1]\n",
    "lower_fractal = all_lower.iloc[-1]"
   ]
  },
  {
   "cell_type": "markdown",
   "metadata": {},
   "source": [
    "### Create OCO"
   ]
  },
  {
   "cell_type": "code",
   "execution_count": 31,
   "metadata": {},
   "outputs": [],
   "source": [
    "oco_order = con.create_oco_order(symbol=pair.fxcm_name, is_buy=True, is_buy2=False,\n",
    "                                 amount=1, is_in_pips=False, time_in_force='GTC',\n",
    "                                 rate=1.3, rate2=1.1, order_type='MarketRange', at_market=0)"
   ]
  },
  {
   "cell_type": "markdown",
   "metadata": {},
   "source": [
    "### Create Entry"
   ]
  },
  {
   "cell_type": "code",
   "execution_count": 14,
   "metadata": {},
   "outputs": [],
   "source": [
    "entry_order_long = con.create_entry_order(symbol=pair.fxcm_name, is_buy=True, rate=1.21, amount=1,\n",
    "                                     time_in_force='GTC', is_in_pips=False, limit=1.4)"
   ]
  },
  {
   "cell_type": "code",
   "execution_count": 17,
   "metadata": {},
   "outputs": [],
   "source": [
    "entry_order_long.delete()"
   ]
  },
  {
   "cell_type": "code",
   "execution_count": 20,
   "metadata": {},
   "outputs": [
    {
     "data": {
      "text/plain": [
       "'Canceled'"
      ]
     },
     "execution_count": 20,
     "metadata": {},
     "output_type": "execute_result"
    }
   ],
   "source": [
    "entry_order_long.get_status()"
   ]
  },
  {
   "cell_type": "code",
   "execution_count": 6,
   "metadata": {},
   "outputs": [],
   "source": [
    "entry_order_short = con.create_entry_order(symbol=pair.fxcm_name, is_buy=False, rate=1.20700, amount=1,\n",
    "                                           time_in_force='GTC', is_in_pips=False, limit=1.1)"
   ]
  },
  {
   "cell_type": "code",
   "execution_count": 10,
   "metadata": {},
   "outputs": [
    {
     "data": {
      "text/plain": [
       "'Executing'"
      ]
     },
     "execution_count": 10,
     "metadata": {},
     "output_type": "execute_result"
    }
   ],
   "source": [
    "entry_order_short.get_associated_trade()"
   ]
  },
  {
   "cell_type": "code",
   "execution_count": 12,
   "metadata": {},
   "outputs": [],
   "source": [
    "return_ = entry_order_long.get_associated_trade()\n",
    "return_"
   ]
  },
  {
   "cell_type": "code",
   "execution_count": 16,
   "metadata": {},
   "outputs": [
    {
     "data": {
      "text/plain": [
       "'Waiting'"
      ]
     },
     "execution_count": 16,
     "metadata": {},
     "output_type": "execute_result"
    }
   ],
   "source": [
    "entry_order.get_status()"
   ]
  },
  {
   "cell_type": "code",
   "execution_count": 18,
   "metadata": {},
   "outputs": [
    {
     "data": {
      "text/plain": [
       "True"
      ]
     },
     "execution_count": 18,
     "metadata": {},
     "output_type": "execute_result"
    }
   ],
   "source": [
    "return_ is None"
   ]
  },
  {
   "cell_type": "markdown",
   "metadata": {},
   "source": [
    "### Cancel all orders"
   ]
  },
  {
   "cell_type": "code",
   "execution_count": 33,
   "metadata": {},
   "outputs": [],
   "source": [
    "order_ids = con.get_order_ids()\n",
    "\n",
    "for order_id in order_ids:\n",
    "    order = con.get_order(order_id)\n",
    "    order.delete()"
   ]
  },
  {
   "cell_type": "markdown",
   "metadata": {},
   "source": [
    "### Open position\n",
    "\n",
    "The order here will instantly dissapear"
   ]
  },
  {
   "cell_type": "code",
   "execution_count": 40,
   "metadata": {},
   "outputs": [],
   "source": [
    "market_order = con.create_market_buy_order(symbol=pair.fxcm_name, amount=5)"
   ]
  },
  {
   "cell_type": "code",
   "execution_count": 41,
   "metadata": {},
   "outputs": [],
   "source": [
    "position = market_order.get_associated_trade()"
   ]
  },
  {
   "cell_type": "code",
   "execution_count": 47,
   "metadata": {},
   "outputs": [
    {
     "data": {
      "text/plain": [
       "datetime.datetime(2020, 12, 2, 14, 48, 59)"
      ]
     },
     "execution_count": 47,
     "metadata": {},
     "output_type": "execute_result"
    }
   ],
   "source": [
    "position.get_time()"
   ]
  },
  {
   "cell_type": "code",
   "execution_count": 53,
   "metadata": {},
   "outputs": [
    {
     "data": {
      "text/plain": [
       "False"
      ]
     },
     "execution_count": 53,
     "metadata": {},
     "output_type": "execute_result"
    }
   ],
   "source": [
    "position.get_tradeId() in con.get_open_trade_ids()"
   ]
  },
  {
   "cell_type": "code",
   "execution_count": 52,
   "metadata": {},
   "outputs": [],
   "source": [
    "position.close()"
   ]
  },
  {
   "cell_type": "markdown",
   "metadata": {},
   "source": [
    "### Getting and closing positions"
   ]
  },
  {
   "cell_type": "code",
   "execution_count": 76,
   "metadata": {},
   "outputs": [],
   "source": [
    "position_ids = con.get_open_trade_ids()\n",
    "\n",
    "for position_id in position_ids:\n",
    "    position = con.get_open_position(position_id)\n",
    "    position.close()"
   ]
  },
  {
   "cell_type": "markdown",
   "metadata": {},
   "source": [
    "### Change stop loss of a position"
   ]
  },
  {
   "cell_type": "code",
   "execution_count": 73,
   "metadata": {},
   "outputs": [],
   "source": [
    "con.change_trade_stop_limit(trade_id=position_ids[0], is_stop=True, rate=1.33200, is_in_pips=False)"
   ]
  },
  {
   "cell_type": "markdown",
   "metadata": {},
   "source": [
    "### Used margin of account"
   ]
  },
  {
   "cell_type": "code",
   "execution_count": 80,
   "metadata": {},
   "outputs": [
    {
     "data": {
      "text/html": [
       "<div>\n",
       "<style scoped>\n",
       "    .dataframe tbody tr th:only-of-type {\n",
       "        vertical-align: middle;\n",
       "    }\n",
       "\n",
       "    .dataframe tbody tr th {\n",
       "        vertical-align: top;\n",
       "    }\n",
       "\n",
       "    .dataframe thead th {\n",
       "        text-align: right;\n",
       "    }\n",
       "</style>\n",
       "<table border=\"1\" class=\"dataframe\">\n",
       "  <thead>\n",
       "    <tr style=\"text-align: right;\">\n",
       "      <th></th>\n",
       "      <th>t</th>\n",
       "      <th>ratePrecision</th>\n",
       "      <th>accountId</th>\n",
       "      <th>balance</th>\n",
       "      <th>usdMr</th>\n",
       "      <th>mc</th>\n",
       "      <th>mcDate</th>\n",
       "      <th>accountName</th>\n",
       "      <th>usdMr3</th>\n",
       "      <th>hedging</th>\n",
       "      <th>usableMargin3</th>\n",
       "      <th>usableMarginPerc</th>\n",
       "      <th>usableMargin3Perc</th>\n",
       "      <th>equity</th>\n",
       "      <th>usableMargin</th>\n",
       "      <th>bus</th>\n",
       "      <th>dayPL</th>\n",
       "      <th>grossPL</th>\n",
       "      <th>isTotal</th>\n",
       "    </tr>\n",
       "  </thead>\n",
       "  <tbody>\n",
       "    <tr>\n",
       "      <th>0</th>\n",
       "      <td>6</td>\n",
       "      <td>0</td>\n",
       "      <td></td>\n",
       "      <td>43365.11</td>\n",
       "      <td>0</td>\n",
       "      <td></td>\n",
       "      <td>None</td>\n",
       "      <td></td>\n",
       "      <td>0</td>\n",
       "      <td></td>\n",
       "      <td>43365.11</td>\n",
       "      <td>100</td>\n",
       "      <td>100</td>\n",
       "      <td>43365.11</td>\n",
       "      <td>43365.11</td>\n",
       "      <td>None</td>\n",
       "      <td>792.53</td>\n",
       "      <td>0</td>\n",
       "      <td>True</td>\n",
       "    </tr>\n",
       "  </tbody>\n",
       "</table>\n",
       "</div>"
      ],
      "text/plain": [
       "   t  ratePrecision accountId   balance  usdMr mc mcDate accountName  usdMr3  \\\n",
       "0  6              0            43365.11      0      None                   0   \n",
       "\n",
       "  hedging  usableMargin3  usableMarginPerc  usableMargin3Perc    equity  \\\n",
       "0               43365.11               100                100  43365.11   \n",
       "\n",
       "   usableMargin   bus   dayPL  grossPL  isTotal  \n",
       "0      43365.11  None  792.53        0     True  "
      ]
     },
     "execution_count": 80,
     "metadata": {},
     "output_type": "execute_result"
    }
   ],
   "source": [
    "con.get_accounts_summary()"
   ]
  },
  {
   "cell_type": "code",
   "execution_count": null,
   "metadata": {},
   "outputs": [],
   "source": []
  }
 ],
 "metadata": {
  "kernelspec": {
   "display_name": "Python [conda env:rl_fx]",
   "language": "python",
   "name": "conda-env-rl_fx-py"
  },
  "language_info": {
   "codemirror_mode": {
    "name": "ipython",
    "version": 3
   },
   "file_extension": ".py",
   "mimetype": "text/x-python",
   "name": "python",
   "nbconvert_exporter": "python",
   "pygments_lexer": "ipython3",
   "version": "3.7.7"
  }
 },
 "nbformat": 4,
 "nbformat_minor": 4
}
